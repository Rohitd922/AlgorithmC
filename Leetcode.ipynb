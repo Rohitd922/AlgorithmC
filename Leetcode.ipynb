{
  "nbformat": 4,
  "nbformat_minor": 0,
  "metadata": {
    "colab": {
      "provenance": [],
      "authorship_tag": "ABX9TyMLZEeM65tF1rSZxctlNLyh",
      "include_colab_link": true
    },
    "kernelspec": {
      "name": "python3",
      "display_name": "Python 3"
    },
    "language_info": {
      "name": "python"
    }
  },
  "cells": [
    {
      "cell_type": "markdown",
      "metadata": {
        "id": "view-in-github",
        "colab_type": "text"
      },
      "source": [
        "<a href=\"https://colab.research.google.com/github/Rohitd922/AlgorithmC/blob/main/Leetcode.ipynb\" target=\"_parent\"><img src=\"https://colab.research.google.com/assets/colab-badge.svg\" alt=\"Open In Colab\"/></a>"
      ]
    },
    {
      "cell_type": "code",
      "source": [
        "### all permutation of a string\n",
        "s = \"abc\"\n",
        "\n",
        "res = []\n",
        "n=len(s)\n",
        "used = [False] * n\n",
        "\n",
        "\n",
        "def permute(path, used):\n",
        "  if len(path)==n:\n",
        "    res.append(\"\".join(path))\n",
        "    return\n",
        "\n",
        "  for i in range(n):\n",
        "    if used[i] == True:\n",
        "      continue\n",
        "\n",
        "    used[i] = True\n",
        "    path.append(s[i])\n",
        "    permute(path, used)\n",
        "    path.pop()\n",
        "    used[i]=False\n",
        "\n",
        "permute([], used)\n",
        "print(res)\n"
      ],
      "metadata": {
        "colab": {
          "base_uri": "https://localhost:8080/"
        },
        "id": "wfEYFT45kCo8",
        "outputId": "9eee5b5b-c094-4e50-a797-1ab2e93ee735"
      },
      "execution_count": null,
      "outputs": [
        {
          "output_type": "stream",
          "name": "stdout",
          "text": [
            "['abc', 'acb', 'bac', 'bca', 'cab', 'cba']\n"
          ]
        }
      ]
    },
    {
      "cell_type": "code",
      "source": [
        "## combinations of a string\n",
        "s = \"abcd\"\n",
        "res = []\n",
        "\n",
        "def combine(i, path):\n",
        "  if path:\n",
        "    res.append(\"\".join(path))\n",
        "\n",
        "  for j in range(i, len(s)):\n",
        "    path.append(s[j])\n",
        "    combine(j+1, path)\n",
        "    path.pop()\n",
        "\n",
        "combine(0, [])\n",
        "res.append(\"\")\n",
        "print(res)"
      ],
      "metadata": {
        "colab": {
          "base_uri": "https://localhost:8080/"
        },
        "id": "HpP7tqQ2kCrQ",
        "outputId": "1e047eb1-13de-4379-a8c0-08883eb4334d"
      },
      "execution_count": null,
      "outputs": [
        {
          "output_type": "stream",
          "name": "stdout",
          "text": [
            "['a', 'ab', 'abc', 'abcd', 'abd', 'ac', 'acd', 'ad', 'b', 'bc', 'bcd', 'bd', 'c', 'cd', 'd', '']\n"
          ]
        }
      ]
    },
    {
      "cell_type": "code",
      "source": [
        "#### next greatest type questions\n",
        "\n",
        "def nge(arr):\n",
        "  stk = []\n",
        "  n = len(arr)\n",
        "  res = [-1] * n\n",
        "  for i in range(len(arr)):\n",
        "    while stk and arr[stk[-1]] < arr[i]:\n",
        "      res[stk.pop()] = arr[i]\n",
        "    stk.append(i)\n",
        "  return res\n",
        "\n",
        "\n",
        "def nse(arr):\n",
        "  stk = []\n",
        "  n = len(arr)\n",
        "  res = [-1] * n\n",
        "  for i in range(len(arr)):\n",
        "    while stk and arr[stk[-1]] > arr[i]:\n",
        "      res[stk.pop()] = arr[i]\n",
        "    stk.append(i)\n",
        "  return res\n",
        "\n",
        "\n",
        "\n",
        "def ngl(arr):\n",
        "  stk=[]\n",
        "  n = len(arr)\n",
        "  res = [-1] * n\n",
        "  for i in range(len(arr)):\n",
        "    while stk and arr[stk[-1]] <= arr[i]:\n",
        "      stk.pop()\n",
        "    if stk:\n",
        "      res[i] = arr[stk[-1]]\n",
        "    stk.append(i)\n",
        "  return res\n",
        "\n",
        "\n",
        "def nsl(arr):\n",
        "  stk=[]\n",
        "  n = len(arr)\n",
        "  res = [-1] * n\n",
        "  for i in range(len(arr)):\n",
        "    while stk and arr[stk[-1]] >= arr[i]:\n",
        "      stk.pop()\n",
        "    if stk:\n",
        "      res[i] = arr[stk[-1]]\n",
        "    stk.append(i)\n",
        "  return res\n"
      ],
      "metadata": {
        "id": "kEqHvrZQkCts"
      },
      "execution_count": null,
      "outputs": []
    },
    {
      "cell_type": "code",
      "source": [
        "arr = [1,2,9,0,-5]\n",
        "print(nge(arr))\n",
        "print(nse(arr))\n",
        "print(ngl(arr))\n",
        "print(nsl(arr))"
      ],
      "metadata": {
        "colab": {
          "base_uri": "https://localhost:8080/"
        },
        "id": "ktbq6PNYkCwB",
        "outputId": "6a66970e-3e80-4380-f4e7-e76dc68431f9"
      },
      "execution_count": null,
      "outputs": [
        {
          "output_type": "stream",
          "name": "stdout",
          "text": [
            "[2, 9, -1, -1, -1]\n",
            "[0, 0, 0, -5, -1]\n",
            "[-1, -1, -1, 9, 0]\n",
            "[-1, 1, 2, -1, -1]\n"
          ]
        }
      ]
    },
    {
      "cell_type": "code",
      "source": [
        "def subsequences(arr):\n",
        "    res = []\n",
        "\n",
        "    def backtrack(index, path):\n",
        "        if index == len(arr):\n",
        "            res.append(path[:])\n",
        "            return\n",
        "        # Include current element\n",
        "        path.append(arr[index])\n",
        "        backtrack(index + 1, path)\n",
        "        path.pop()\n",
        "        # Exclude current element\n",
        "        backtrack(index + 1, path)\n",
        "\n",
        "    backtrack(0, [])\n",
        "    return res\n",
        "\n",
        "# Example\n",
        "arr = [1, 2, 3]\n",
        "print(subsequences(arr))\n"
      ],
      "metadata": {
        "id": "i78W7zSdkCym",
        "colab": {
          "base_uri": "https://localhost:8080/"
        },
        "outputId": "43047c55-ed73-4bf0-812a-06a195b6501f"
      },
      "execution_count": null,
      "outputs": [
        {
          "output_type": "stream",
          "name": "stdout",
          "text": [
            "[[1, 2, 3], [1, 2], [1, 3], [1], [2, 3], [2], [3], []]\n"
          ]
        }
      ]
    },
    {
      "cell_type": "code",
      "source": [],
      "metadata": {
        "id": "aGDi1WuTkC08"
      },
      "execution_count": null,
      "outputs": []
    },
    {
      "cell_type": "code",
      "source": [
        "## top two element\n",
        "\n",
        "grid = [\n",
        "    [1, 7, 3],\n",
        "    [8, 10, 10],\n",
        "    [4, 7, 6]\n",
        "]\n",
        "\n",
        "def top_two(grid):\n",
        "    nr, nc = len(grid), len(grid[0])\n",
        "    first, second = float(\"-inf\"), float(\"-inf\")\n",
        "\n",
        "    for i in range(nr):\n",
        "        for j in range(nc):\n",
        "            val = grid[i][j]\n",
        "            if val >= first:\n",
        "                second = first\n",
        "                first = val\n",
        "            elif val >= second:\n",
        "                second = val\n",
        "\n",
        "    return [first, second]\n",
        "\n",
        "print(top_two(grid))  # Output: [9, 8]"
      ],
      "metadata": {
        "id": "JShRpkThkC4U",
        "colab": {
          "base_uri": "https://localhost:8080/"
        },
        "outputId": "4f468d4b-a042-4ae7-ca99-8843b60650c7"
      },
      "execution_count": 12,
      "outputs": [
        {
          "output_type": "stream",
          "name": "stdout",
          "text": [
            "[10, 10]\n"
          ]
        }
      ]
    },
    {
      "cell_type": "code",
      "source": [
        "## binary search lower bound/upper bound\n",
        "\n",
        "def lower_bound(arr, x):\n",
        "    left, right = 0, len(arr)\n",
        "    while left < right:\n",
        "        mid = (left + right) // 2\n",
        "        if arr[mid] < x:\n",
        "            left = mid + 1\n",
        "        else:\n",
        "            right = mid\n",
        "    return left\n",
        "\n",
        "def upper_bound(arr, x):\n",
        "    left, right = 0, len(arr)\n",
        "    while left < right:\n",
        "        mid = (left + right) // 2\n",
        "        if arr[mid] <= x:\n",
        "            left = mid + 1\n",
        "        else:\n",
        "            right = mid\n",
        "    return left\n",
        "\n",
        "\n",
        "arr = [1, 2, 4, 4, 4, 7, 9]\n",
        "x = 4\n",
        "\n",
        "print(\"Lower Bound:\", lower_bound(arr, x))  # Output: 2\n",
        "print(\"Upper Bound:\", upper_bound(arr, x))  # Output: 5\n",
        "\n",
        "\n",
        "# Same results as above\n",
        "print(\"Lower Bound (bisect_left):\", bisect.bisect_left(arr, x))   # Output: 2\n",
        "print(\"Upper Bound (bisect_right):\", bisect.bisect_right(arr, x)) # Output: 5\n",
        "\n"
      ],
      "metadata": {
        "id": "N1yDnDXGFrLZ",
        "colab": {
          "base_uri": "https://localhost:8080/"
        },
        "outputId": "55dd9bc8-ddee-44f2-e7ab-9dbf8f4d6493"
      },
      "execution_count": 7,
      "outputs": [
        {
          "output_type": "stream",
          "name": "stdout",
          "text": [
            "Lower Bound: 2\n",
            "Upper Bound: 5\n",
            "Lower Bound (bisect_left): 2\n",
            "Upper Bound (bisect_right): 5\n"
          ]
        }
      ]
    },
    {
      "cell_type": "code",
      "source": [],
      "metadata": {
        "id": "1UjX_rVLNWHT"
      },
      "execution_count": null,
      "outputs": []
    }
  ]
}