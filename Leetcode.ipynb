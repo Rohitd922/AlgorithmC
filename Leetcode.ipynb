{
  "nbformat": 4,
  "nbformat_minor": 0,
  "metadata": {
    "colab": {
      "provenance": [],
      "authorship_tag": "ABX9TyO+i6SwikhxEi5Vj9ONSTLh",
      "include_colab_link": true
    },
    "kernelspec": {
      "name": "python3",
      "display_name": "Python 3"
    },
    "language_info": {
      "name": "python"
    }
  },
  "cells": [
    {
      "cell_type": "markdown",
      "metadata": {
        "id": "view-in-github",
        "colab_type": "text"
      },
      "source": [
        "<a href=\"https://colab.research.google.com/github/Rohitd922/AlgorithmC/blob/main/Leetcode.ipynb\" target=\"_parent\"><img src=\"https://colab.research.google.com/assets/colab-badge.svg\" alt=\"Open In Colab\"/></a>"
      ]
    },
    {
      "cell_type": "code",
      "source": [
        "### all permutation of a string\n",
        "s = \"abc\"\n",
        "\n",
        "res = []\n",
        "n=len(s)\n",
        "used = [False] * n\n",
        "\n",
        "\n",
        "def permute(path, used):\n",
        "  if len(path)==n:\n",
        "    res.append(\"\".join(path))\n",
        "    return\n",
        "\n",
        "  for i in range(n):\n",
        "    if used[i] == True:\n",
        "      continue\n",
        "\n",
        "    used[i] = True\n",
        "    path.append(s[i])\n",
        "    permute(path, used)\n",
        "    path.pop()\n",
        "    used[i]=False\n",
        "\n",
        "permute([], used)\n",
        "print(res)\n"
      ],
      "metadata": {
        "colab": {
          "base_uri": "https://localhost:8080/"
        },
        "id": "wfEYFT45kCo8",
        "outputId": "9eee5b5b-c094-4e50-a797-1ab2e93ee735"
      },
      "execution_count": 17,
      "outputs": [
        {
          "output_type": "stream",
          "name": "stdout",
          "text": [
            "['abc', 'acb', 'bac', 'bca', 'cab', 'cba']\n"
          ]
        }
      ]
    },
    {
      "cell_type": "code",
      "source": [
        "## combinations of a string\n",
        "s = \"abcd\"\n",
        "res = []\n",
        "\n",
        "def combine(i, path):\n",
        "  if path:\n",
        "    res.append(\"\".join(path))\n",
        "\n",
        "  for j in range(i, len(s)):\n",
        "    path.append(s[j])\n",
        "    combine(j+1, path)\n",
        "    path.pop()\n",
        "\n",
        "combine(0, [])\n",
        "res.append(\"\")\n",
        "print(res)"
      ],
      "metadata": {
        "colab": {
          "base_uri": "https://localhost:8080/"
        },
        "id": "HpP7tqQ2kCrQ",
        "outputId": "1e047eb1-13de-4379-a8c0-08883eb4334d"
      },
      "execution_count": 16,
      "outputs": [
        {
          "output_type": "stream",
          "name": "stdout",
          "text": [
            "['a', 'ab', 'abc', 'abcd', 'abd', 'ac', 'acd', 'ad', 'b', 'bc', 'bcd', 'bd', 'c', 'cd', 'd', '']\n"
          ]
        }
      ]
    },
    {
      "cell_type": "code",
      "source": [],
      "metadata": {
        "id": "kEqHvrZQkCts"
      },
      "execution_count": null,
      "outputs": []
    },
    {
      "cell_type": "code",
      "source": [],
      "metadata": {
        "id": "ktbq6PNYkCwB"
      },
      "execution_count": null,
      "outputs": []
    },
    {
      "cell_type": "code",
      "source": [],
      "metadata": {
        "id": "i78W7zSdkCym"
      },
      "execution_count": null,
      "outputs": []
    },
    {
      "cell_type": "code",
      "source": [],
      "metadata": {
        "id": "aGDi1WuTkC08"
      },
      "execution_count": null,
      "outputs": []
    },
    {
      "cell_type": "code",
      "source": [],
      "metadata": {
        "id": "JShRpkThkC4U"
      },
      "execution_count": null,
      "outputs": []
    }
  ]
}